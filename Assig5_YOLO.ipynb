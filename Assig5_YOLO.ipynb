{
 "cells": [
  {
   "cell_type": "code",
   "execution_count": null,
   "metadata": {
    "id": "Mgdi28Z9GcCN"
   },
   "outputs": [
    {
     "name": "stdout",
     "output_type": "stream",
     "text": [
      "\n",
      "Menu:\n",
      "1. Load and Detect Objects in Image\n",
      "2. Exit\n",
      "Enter your choice (1/2): 1\n",
      "Enter the path to the image file: C:\\Users\\Laptop\\Desktop\\CV\\Pothole detection\\object detection\\Persian_Car_Plates_YOLOV8\\test\\images\\280_png.rf.c6e2081aebcc3cb429fb3749eb014af9.jpg\n",
      "\n",
      "0: 640x640 1 truck, 5770.6ms\n",
      "Speed: 49.7ms preprocess, 5770.6ms inference, 296.2ms postprocess per image at shape (1, 3, 640, 640)\n"
     ]
    }
   ],
   "source": [
    "from ultralytics import YOLO\n",
    "import cv2\n",
    "import matplotlib.pyplot as plt\n",
    "\n",
    "def disp_imgs(orig_img_rgb, annot_img_rgb):\n",
    "\n",
    "    fig, axes = plt.subplots(1, 2, figsize=(12, 6))\n",
    "    axes[0].imshow(orig_img_rgb)\n",
    "    axes[0].set_title('Original Image')\n",
    "    axes[0].axis('off')\n",
    "\n",
    "    axes[1].imshow(annot_img_rgb)\n",
    "    axes[1].set_title('Detected Objects')\n",
    "    axes[1].axis('off')\n",
    "\n",
    "    plt.tight_layout()\n",
    "    plt.show(block=False)\n",
    "    plt.pause(3)\n",
    "    plt.close()\n",
    "    \n",
    "def main():\n",
    "    model = YOLO('C:\\\\Users\\\\Laptop\\\\Desktop\\\\CV\\\\Pothole detection\\\\assignments\\\\yolov8n.pt')\n",
    "\n",
    "    while True:\n",
    "        print(\"\\nMenu:\")\n",
    "        print(\"1. Load and Detect Objects in Image\")\n",
    "        print(\"2. Exit\")\n",
    "\n",
    "        ch = input(\"Enter your choice (1/2): \")\n",
    "\n",
    "        if ch == '1':\n",
    "            img_path = input(\"Enter the path to the image file: \")\n",
    "\n",
    "            orig_img = cv2.imread(img_path)\n",
    "            \n",
    "            if orig_img is None:\n",
    "                print(\"Error: Image not found or unable to load.\")\n",
    "                continue\n",
    "\n",
    "            orig_img_rgb = cv2.cvtColor(orig_img, cv2.COLOR_BGR2RGB)\n",
    "\n",
    "            results = model(orig_img)\n",
    "\n",
    "            result = results[0] if isinstance(results, list) else results\n",
    "\n",
    "            annot_img = result.plot()\n",
    "\n",
    "            annot_img_rgb = cv2.cvtColor(annot_img, cv2.COLOR_BGR2RGB)\n",
    "\n",
    "            disp_imgs(orig_img_rgb, annot_img_rgb)\n",
    "\n",
    "        elif ch == '2':\n",
    "            \n",
    "            break\n",
    "\n",
    "        else:\n",
    "            print(\"Invalid choice.\")\n",
    "\n",
    "if __name__ == \"__main__\":\n",
    "    main()"
   ]
  },
  {
   "cell_type": "code",
   "execution_count": null,
   "metadata": {},
   "outputs": [],
   "source": []
  }
 ],
 "metadata": {
  "colab": {
   "provenance": []
  },
  "kernelspec": {
   "display_name": "Python 3 (ipykernel)",
   "language": "python",
   "name": "python3"
  },
  "language_info": {
   "codemirror_mode": {
    "name": "ipython",
    "version": 3
   },
   "file_extension": ".py",
   "mimetype": "text/x-python",
   "name": "python",
   "nbconvert_exporter": "python",
   "pygments_lexer": "ipython3",
   "version": "3.11.5"
  }
 },
 "nbformat": 4,
 "nbformat_minor": 1
}
